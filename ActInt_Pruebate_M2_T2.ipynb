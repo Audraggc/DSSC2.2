{
  "nbformat": 4,
  "nbformat_minor": 0,
  "metadata": {
    "colab": {
      "name": "ActInt Pruebate M2 T2.ipynb",
      "provenance": [],
      "include_colab_link": true
    },
    "kernelspec": {
      "name": "python3",
      "display_name": "Python 3"
    },
    "language_info": {
      "name": "python"
    }
  },
  "cells": [
    {
      "cell_type": "markdown",
      "metadata": {
        "id": "view-in-github",
        "colab_type": "text"
      },
      "source": [
        "<a href=\"https://colab.research.google.com/github/Audraggc/DSSC2.2/blob/main/ActInt_Pruebate_M2_T2.ipynb\" target=\"_parent\"><img src=\"https://colab.research.google.com/assets/colab-badge.svg\" alt=\"Open In Colab\"/></a>"
      ]
    },
    {
      "cell_type": "markdown",
      "metadata": {
        "id": "7ebY2avkMnDE"
      },
      "source": [
        "#Actividad de Integración Pruebate Módulo 2 Tema 2"
      ]
    },
    {
      "cell_type": "code",
      "metadata": {
        "id": "2puDEP4UOROd"
      },
      "source": [
        "import numpy as np"
      ],
      "execution_count": null,
      "outputs": []
    },
    {
      "cell_type": "markdown",
      "metadata": {
        "id": "Nu0alkWQMxMi"
      },
      "source": [
        "1.\tCrea un arreglo de numpy llamado listaDatos de numpy con los siguientes valores [45, 67, 23, 51, 89, 100, 23, 46, 57, 12, 1, 87, 23, 69, 33, 18, 87, 45, 73, 28]"
      ]
    },
    {
      "cell_type": "code",
      "metadata": {
        "colab": {
          "base_uri": "https://localhost:8080/"
        },
        "id": "WT9ig8uaMhHo",
        "outputId": "6a2a8e06-4625-43e6-9b22-cae466f71f97"
      },
      "source": [
        "listaDatos = np.array([45, 67, 23, 51, 89, 100, 23, 46, 57, 12, 1, 87, 23, 69, 33, 18, 87, 45, 73, 28])\n",
        "print('listaDatos: \\n', listaDatos)"
      ],
      "execution_count": null,
      "outputs": [
        {
          "output_type": "stream",
          "text": [
            "listaDatos: \n",
            " [ 45  67  23  51  89 100  23  46  57  12   1  87  23  69  33  18  87  45\n",
            "  73  28]\n"
          ],
          "name": "stdout"
        }
      ]
    },
    {
      "cell_type": "markdown",
      "metadata": {
        "id": "oXhTncJYMyRO"
      },
      "source": [
        "2.\tCrea una matriz de numpy de 5x4 llamado matrizA con los siguientes valores [[34, 61, 0, 12], [98, 53, 76, 2], [19, 56, 87, 32], [100, 62, 91, 21], [84, 50, 41, 3]]\n"
      ]
    },
    {
      "cell_type": "code",
      "metadata": {
        "colab": {
          "base_uri": "https://localhost:8080/"
        },
        "id": "CsWjhki8Myqi",
        "outputId": "28541356-e1de-4023-c1d9-240c9b8cbf22"
      },
      "source": [
        " matrizA = np.array([[34, 61, 0, 12], [98, 53, 76, 2], [19, 56, 87, 32], [100, 62, 91, 21], [84, 50, 41, 3]])\n",
        " print('matrizA :\\n',matrizA)"
      ],
      "execution_count": null,
      "outputs": [
        {
          "output_type": "stream",
          "text": [
            "matrizA :\n",
            " [[ 34  61   0  12]\n",
            " [ 98  53  76   2]\n",
            " [ 19  56  87  32]\n",
            " [100  62  91  21]\n",
            " [ 84  50  41   3]]\n"
          ],
          "name": "stdout"
        }
      ]
    },
    {
      "cell_type": "markdown",
      "metadata": {
        "id": "86fxCetUM2QP"
      },
      "source": [
        "3.\tConvierte el arreglo listaDatos a una matriz de 5x4 llamada MatB"
      ]
    },
    {
      "cell_type": "code",
      "metadata": {
        "colab": {
          "base_uri": "https://localhost:8080/"
        },
        "id": "NeI5h5mTO_dv",
        "outputId": "12ee9745-35bc-4899-ed6c-c39e0f125a90"
      },
      "source": [
        "matrizB = listaDatos.reshape((5,4))\n",
        "print('matrizB :\\n', matrizB)"
      ],
      "execution_count": null,
      "outputs": [
        {
          "output_type": "stream",
          "text": [
            "matrizB :\n",
            " [[ 45  67  23  51]\n",
            " [ 89 100  23  46]\n",
            " [ 57  12   1  87]\n",
            " [ 23  69  33  18]\n",
            " [ 87  45  73  28]]\n"
          ],
          "name": "stdout"
        }
      ]
    },
    {
      "cell_type": "markdown",
      "metadata": {
        "id": "E9xY5-oNM09w"
      },
      "source": [
        "4.\tDeterminar el valor mínimo y máximo de la primera matriz"
      ]
    },
    {
      "cell_type": "code",
      "metadata": {
        "colab": {
          "base_uri": "https://localhost:8080/"
        },
        "id": "ddCEHW_ZM02l",
        "outputId": "d7db98fd-1893-4da4-fa63-666894b40c67"
      },
      "source": [
        "print('Valor mínimo de matrizA: ', matrizA.min())\n",
        "print('Valor máximo de matrizA: ', matrizA.max())"
      ],
      "execution_count": null,
      "outputs": [
        {
          "output_type": "stream",
          "text": [
            "Valor mínimo de matrizA:  0\n",
            "Valor máximo de matrizA:  100\n"
          ],
          "name": "stdout"
        }
      ]
    },
    {
      "cell_type": "markdown",
      "metadata": {
        "id": "d72eWdMoM0wD"
      },
      "source": [
        "5.\tCalcular el promedio de todas las columnas de la primera matriz"
      ]
    },
    {
      "cell_type": "code",
      "metadata": {
        "colab": {
          "base_uri": "https://localhost:8080/"
        },
        "id": "7yyMHtfYM0oc",
        "outputId": "84e75993-e602-435a-bd45-50f2b35f1205"
      },
      "source": [
        "print('Promedio de cada una de las columnas de matrizA: ', matrizA.mean(axis=0))"
      ],
      "execution_count": null,
      "outputs": [
        {
          "output_type": "stream",
          "text": [
            "Promedio de todas las columnas de matrizA:  [67.  56.4 59.  14. ]\n"
          ],
          "name": "stdout"
        }
      ]
    },
    {
      "cell_type": "markdown",
      "metadata": {
        "id": "x-pwHRIuM0i6"
      },
      "source": [
        "6.\tCalcular la suma de todos los elementos de la segunda y tercera fila de la primera matriz"
      ]
    },
    {
      "cell_type": "code",
      "metadata": {
        "colab": {
          "base_uri": "https://localhost:8080/"
        },
        "id": "nSvK4zlGM0aG",
        "outputId": "c00e7cda-7835-4a97-bbcb-ca6450ef5b06"
      },
      "source": [
        "print('Suma de todos los elementos de la segunda y tercera fila de la matrizA: ', matrizA[1:3:1, :].sum())"
      ],
      "execution_count": null,
      "outputs": [
        {
          "output_type": "stream",
          "text": [
            "Suma de todos los elementos de la segunda y tercera fila de la matrizA:  423\n"
          ],
          "name": "stdout"
        }
      ]
    },
    {
      "cell_type": "markdown",
      "metadata": {
        "id": "ThJ0HkEuMzDV"
      },
      "source": [
        "7.\tSumar las dos matrices"
      ]
    },
    {
      "cell_type": "code",
      "metadata": {
        "colab": {
          "base_uri": "https://localhost:8080/"
        },
        "id": "z0Bj-EgKMzsj",
        "outputId": "87ae50d1-9083-458e-9ca6-05316aa264e3"
      },
      "source": [
        "print('Resultado de la suma de matrices: \\n', matrizA + matrizB)\n"
      ],
      "execution_count": null,
      "outputs": [
        {
          "output_type": "stream",
          "text": [
            "Resultado de la suma de matrices: \n",
            " [[ 79 128  23  63]\n",
            " [187 153  99  48]\n",
            " [ 76  68  88 119]\n",
            " [123 131 124  39]\n",
            " [171  95 114  31]]\n"
          ],
          "name": "stdout"
        }
      ]
    },
    {
      "cell_type": "markdown",
      "metadata": {
        "id": "_fRpUipAM0S1"
      },
      "source": [
        "8.\tObtener la multiplicación de ambas matrices"
      ]
    },
    {
      "cell_type": "code",
      "metadata": {
        "colab": {
          "base_uri": "https://localhost:8080/"
        },
        "id": "gZxU7Mf4M5et",
        "outputId": "393f43f9-624a-429f-b546-715b4382e198"
      },
      "source": [
        "matrizB = matrizB.reshape((4, 5))\n",
        "print('Resultado de la multiplicación de matrices: \\n', matrizA @ matrizB)"
      ],
      "execution_count": null,
      "outputs": [
        {
          "output_type": "stream",
          "text": [
            "Resultado de la multiplicación de matrices: \n",
            " [[ 7846  4725  4128  6087  4094]\n",
            " [ 9822 14571  6530 13409 11922]\n",
            " [ 7118 12914  6454 12500  6130]\n",
            " [11169 17870  8190 16446 13235]\n",
            " [ 8875 10606  5310 10182  9513]]\n"
          ],
          "name": "stdout"
        }
      ]
    },
    {
      "cell_type": "markdown",
      "metadata": {
        "id": "EZ_f9QZ4N08G"
      },
      "source": [
        "9.\tObtener la transpuesta de la matrizB\n",
        "\n"
      ]
    },
    {
      "cell_type": "code",
      "metadata": {
        "colab": {
          "base_uri": "https://localhost:8080/"
        },
        "id": "ilFLBHMFM6pE",
        "outputId": "771aff56-1135-4a68-d922-efcc31c81ab3"
      },
      "source": [
        "print('Transpuesta de la matrizB: \\n', matrizB.transpose())"
      ],
      "execution_count": null,
      "outputs": [
        {
          "output_type": "stream",
          "text": [
            "Transpuesta de la matrizB: \n",
            " [[ 45 100   1  18]\n",
            " [ 67  23  87  87]\n",
            " [ 23  46  23  45]\n",
            " [ 51  57  69  73]\n",
            " [ 89  12  33  28]]\n"
          ],
          "name": "stdout"
        }
      ]
    }
  ]
}