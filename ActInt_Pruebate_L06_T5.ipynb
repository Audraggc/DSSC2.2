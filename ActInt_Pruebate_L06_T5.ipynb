{
  "nbformat": 4,
  "nbformat_minor": 0,
  "metadata": {
    "colab": {
      "name": " ActInt Pruebate L06 T5.ipynb",
      "provenance": []
    },
    "kernelspec": {
      "name": "python3",
      "display_name": "Python 3"
    },
    "language_info": {
      "name": "python"
    }
  },
  "cells": [
    {
      "cell_type": "code",
      "metadata": {
        "id": "Gl_F3GmSUxVK"
      },
      "source": [
        "import pandas as pd\n",
        "pd.options.display.max_rows = 10\n",
        "pd.options.display.max_columns = 10\n"
      ],
      "execution_count": null,
      "outputs": []
    },
    {
      "cell_type": "code",
      "metadata": {
        "colab": {
          "base_uri": "https://localhost:8080/"
        },
        "id": "HFvhm5IKX7Sw",
        "outputId": "6fc9ad7f-321f-4b14-a76d-d4ca106372da"
      },
      "source": [
        "from google.colab import drive\n",
        "drive.mount('/content/drive')"
      ],
      "execution_count": null,
      "outputs": [
        {
          "output_type": "stream",
          "text": [
            "Mounted at /content/drive\n"
          ],
          "name": "stdout"
        }
      ]
    },
    {
      "cell_type": "markdown",
      "metadata": {
        "id": "7ebY2avkMnDE"
      },
      "source": [
        "#Actividad de Integración Pruebate Módulo 2 Tema 5"
      ]
    },
    {
      "cell_type": "markdown",
      "metadata": {
        "id": "du2Nbm4dRx1r"
      },
      "source": [
        "1.\tLeer los datos del archivo country_vaccinations.csv\n"
      ]
    },
    {
      "cell_type": "code",
      "metadata": {
        "id": "gXtpBnE8RoMM"
      },
      "source": [
        "vacunacion = pd.read_csv('/content/drive/MyDrive/Colab Notebooks/TLG/country_vaccinations.csv')\n",
        "vacunacion"
      ],
      "execution_count": null,
      "outputs": []
    },
    {
      "cell_type": "markdown",
      "metadata": {
        "id": "gvpWkyGidmXI"
      },
      "source": [
        "2.\tDesplegar su estructura y verificar que el campo date sea de tipo datetime64 [ns], en caso de que no, convertirlo a datetime64[ns]"
      ]
    },
    {
      "cell_type": "code",
      "metadata": {
        "colab": {
          "base_uri": "https://localhost:8080/"
        },
        "id": "vwr99QI3dpus",
        "outputId": "94c57026-0461-49b2-8656-8072c04cdaef"
      },
      "source": [
        "vacunacion['date'] = pd.to_datetime(vacunacion['date'])\n",
        "vacunacion.info()"
      ],
      "execution_count": null,
      "outputs": [
        {
          "output_type": "stream",
          "text": [
            "<class 'pandas.core.frame.DataFrame'>\n",
            "RangeIndex: 3081 entries, 0 to 3080\n",
            "Data columns (total 15 columns):\n",
            " #   Column                               Non-Null Count  Dtype         \n",
            "---  ------                               --------------  -----         \n",
            " 0   country                              3081 non-null   object        \n",
            " 1   iso_code                             2833 non-null   object        \n",
            " 2   date                                 3081 non-null   datetime64[ns]\n",
            " 3   total_vaccinations                   1980 non-null   float64       \n",
            " 4   people_vaccinated                    1643 non-null   float64       \n",
            " 5   people_fully_vaccinated              1016 non-null   float64       \n",
            " 6   daily_vaccinations_raw               1642 non-null   float64       \n",
            " 7   daily_vaccinations                   2960 non-null   float64       \n",
            " 8   total_vaccinations_per_hundred       1980 non-null   float64       \n",
            " 9   people_vaccinated_per_hundred        1643 non-null   float64       \n",
            " 10  people_fully_vaccinated_per_hundred  1016 non-null   float64       \n",
            " 11  daily_vaccinations_per_million       2960 non-null   float64       \n",
            " 12  vaccines                             3081 non-null   object        \n",
            " 13  source_name                          3081 non-null   object        \n",
            " 14  source_website                       3081 non-null   object        \n",
            "dtypes: datetime64[ns](1), float64(9), object(5)\n",
            "memory usage: 361.2+ KB\n"
          ],
          "name": "stdout"
        }
      ]
    },
    {
      "cell_type": "markdown",
      "metadata": {
        "id": "1_qlnKXzdq8X"
      },
      "source": [
        "3.\tObtener la cantidad de vacunados usando la columna daily_vaccinations"
      ]
    },
    {
      "cell_type": "code",
      "metadata": {
        "colab": {
          "base_uri": "https://localhost:8080/"
        },
        "id": "MHTUe1ogdsil",
        "outputId": "8cd8e792-b37c-4126-82d1-1c4b5a9498e0"
      },
      "source": [
        "vacunacion['daily_vaccinations'].sum()"
      ],
      "execution_count": null,
      "outputs": [
        {
          "output_type": "execute_result",
          "data": {
            "text/plain": [
              "165073608.0"
            ]
          },
          "metadata": {
            "tags": []
          },
          "execution_count": 12
        }
      ]
    },
    {
      "cell_type": "markdown",
      "metadata": {
        "id": "1fu6qV4Qds6w"
      },
      "source": [
        "4.\tObtener el promedio de vacunados por país usando las columnas iso_code y daily_vaccionations"
      ]
    },
    {
      "cell_type": "code",
      "metadata": {
        "colab": {
          "base_uri": "https://localhost:8080/",
          "height": 450
        },
        "id": "m04hgTbsdu4m",
        "outputId": "f0cae75b-191f-4b96-c71e-3d9c7dad5094"
      },
      "source": [
        "vacunacion[['iso_code', 'daily_vaccinations']].groupby('iso_code').mean()"
      ],
      "execution_count": null,
      "outputs": [
        {
          "output_type": "execute_result",
          "data": {
            "text/html": [
              "<div>\n",
              "<style scoped>\n",
              "    .dataframe tbody tr th:only-of-type {\n",
              "        vertical-align: middle;\n",
              "    }\n",
              "\n",
              "    .dataframe tbody tr th {\n",
              "        vertical-align: top;\n",
              "    }\n",
              "\n",
              "    .dataframe thead th {\n",
              "        text-align: right;\n",
              "    }\n",
              "</style>\n",
              "<table border=\"1\" class=\"dataframe\">\n",
              "  <thead>\n",
              "    <tr style=\"text-align: right;\">\n",
              "      <th></th>\n",
              "      <th>daily_vaccinations</th>\n",
              "    </tr>\n",
              "    <tr>\n",
              "      <th>iso_code</th>\n",
              "      <th></th>\n",
              "    </tr>\n",
              "  </thead>\n",
              "  <tbody>\n",
              "    <tr>\n",
              "      <th>AIA</th>\n",
              "      <td>149.000000</td>\n",
              "    </tr>\n",
              "    <tr>\n",
              "      <th>ALB</th>\n",
              "      <td>44.625000</td>\n",
              "    </tr>\n",
              "    <tr>\n",
              "      <th>AND</th>\n",
              "      <td>51.750000</td>\n",
              "    </tr>\n",
              "    <tr>\n",
              "      <th>ARE</th>\n",
              "      <td>101290.384615</td>\n",
              "    </tr>\n",
              "    <tr>\n",
              "      <th>ARG</th>\n",
              "      <td>12705.630435</td>\n",
              "    </tr>\n",
              "    <tr>\n",
              "      <th>...</th>\n",
              "      <td>...</td>\n",
              "    </tr>\n",
              "    <tr>\n",
              "      <th>SWE</th>\n",
              "      <td>8494.382979</td>\n",
              "    </tr>\n",
              "    <tr>\n",
              "      <th>SYC</th>\n",
              "      <td>1363.575758</td>\n",
              "    </tr>\n",
              "    <tr>\n",
              "      <th>TCA</th>\n",
              "      <td>222.000000</td>\n",
              "    </tr>\n",
              "    <tr>\n",
              "      <th>TUR</th>\n",
              "      <td>119377.935484</td>\n",
              "    </tr>\n",
              "    <tr>\n",
              "      <th>USA</th>\n",
              "      <td>820716.618182</td>\n",
              "    </tr>\n",
              "  </tbody>\n",
              "</table>\n",
              "<p>86 rows × 1 columns</p>\n",
              "</div>"
            ],
            "text/plain": [
              "          daily_vaccinations\n",
              "iso_code                    \n",
              "AIA               149.000000\n",
              "ALB                44.625000\n",
              "AND                51.750000\n",
              "ARE            101290.384615\n",
              "ARG             12705.630435\n",
              "...                      ...\n",
              "SWE              8494.382979\n",
              "SYC              1363.575758\n",
              "TCA               222.000000\n",
              "TUR            119377.935484\n",
              "USA            820716.618182\n",
              "\n",
              "[86 rows x 1 columns]"
            ]
          },
          "metadata": {
            "tags": []
          },
          "execution_count": 14
        }
      ]
    },
    {
      "cell_type": "markdown",
      "metadata": {
        "id": "TmGknznIdvSu"
      },
      "source": [
        "5.\tCrear una columna derivada con las diferencias de las columnas daily_vaccinations - daily_vaccinations_raw"
      ]
    },
    {
      "cell_type": "code",
      "metadata": {
        "colab": {
          "base_uri": "https://localhost:8080/"
        },
        "id": "gvquN1nWdxRO",
        "outputId": "3a6082ce-1d53-43fb-e14d-876a228d2552"
      },
      "source": [
        "vacunacion['difference'] = vacunacion['daily_vaccinations'] - vacunacion['daily_vaccinations_raw']\n",
        "vacunacion['difference']"
      ],
      "execution_count": null,
      "outputs": [
        {
          "output_type": "execute_result",
          "data": {
            "text/plain": [
              "0          NaN\n",
              "1          NaN\n",
              "2          NaN\n",
              "3          3.0\n",
              "4        -12.0\n",
              "         ...  \n",
              "3076    1881.0\n",
              "3077    1066.0\n",
              "3078    -771.0\n",
              "3079   -4165.0\n",
              "3080   -5972.0\n",
              "Name: difference, Length: 3081, dtype: float64"
            ]
          },
          "metadata": {
            "tags": []
          },
          "execution_count": 16
        }
      ]
    },
    {
      "cell_type": "markdown",
      "metadata": {
        "id": "Vpxn-V_Fdxpu"
      },
      "source": [
        "6.\tGenerar una columna derivada con la cantidad de vacunas utilizadas cada día (contar la cantidad de elementos de la lista generada al aplicar split a los datos de la columna vaccines)"
      ]
    },
    {
      "cell_type": "code",
      "metadata": {
        "colab": {
          "base_uri": "https://localhost:8080/"
        },
        "id": "KekrJ-EHdzof",
        "outputId": "90a71ed5-9a58-4927-b440-081a6d44fd97"
      },
      "source": [
        "vacunacion['canVaccines'] = vacunacion['vaccines'].str.split(', ').str.len()\n",
        "vacunacion['canVaccines']"
      ],
      "execution_count": null,
      "outputs": [
        {
          "output_type": "execute_result",
          "data": {
            "text/plain": [
              "0       1\n",
              "1       1\n",
              "2       1\n",
              "3       1\n",
              "4       1\n",
              "       ..\n",
              "3076    2\n",
              "3077    2\n",
              "3078    2\n",
              "3079    2\n",
              "3080    2\n",
              "Name: canVaccines, Length: 3081, dtype: int64"
            ]
          },
          "metadata": {
            "tags": []
          },
          "execution_count": 17
        }
      ]
    },
    {
      "cell_type": "markdown",
      "metadata": {
        "id": "V4MTxPhwd0BF"
      },
      "source": [
        "7.\tCambiar en la columna source_name todas las apariciones de Ministry of Health por MH y National Emergency Crisis and Disaster Management Authority por NECDMA."
      ]
    },
    {
      "cell_type": "code",
      "metadata": {
        "colab": {
          "base_uri": "https://localhost:8080/"
        },
        "id": "NB_SG8xmd1lF",
        "outputId": "02a5f83b-bf41-4e9e-c564-d748a11b91fb"
      },
      "source": [
        "vacunacion['source_name'] = vacunacion['source_name'].replace({\"Ministry of Health\": \"MH\", \"National Emergency Crisis and Disaster Management Authority\": \"NECDMA\"})\n",
        "vacunacion['source_name']"
      ],
      "execution_count": null,
      "outputs": [
        {
          "output_type": "execute_result",
          "data": {
            "text/plain": [
              "0                                     MH\n",
              "1                                     MH\n",
              "2                                     MH\n",
              "3                                     MH\n",
              "4                                     MH\n",
              "                      ...               \n",
              "3076    Government of the United Kingdom\n",
              "3077    Government of the United Kingdom\n",
              "3078    Government of the United Kingdom\n",
              "3079    Government of the United Kingdom\n",
              "3080    Government of the United Kingdom\n",
              "Name: source_name, Length: 3081, dtype: object"
            ]
          },
          "metadata": {
            "tags": []
          },
          "execution_count": 21
        }
      ]
    },
    {
      "cell_type": "markdown",
      "metadata": {
        "id": "WR0IkUuWd159"
      },
      "source": [
        "8.\tObtener cual es la fecha del primer reporte y cual es la fecha del último reporte registrado en el dataframe"
      ]
    },
    {
      "cell_type": "code",
      "metadata": {
        "colab": {
          "base_uri": "https://localhost:8080/"
        },
        "id": "B99N3e-Md3v-",
        "outputId": "82bec8d7-145a-4c02-9f75-5e3e0ae2b0ae"
      },
      "source": [
        "print('Fecha del primer reporte: ', vacunacion['date'].min())\n",
        "print('Fecha del último reporte: ', vacunacion['date'].max())"
      ],
      "execution_count": null,
      "outputs": [
        {
          "output_type": "stream",
          "text": [
            "Fecha del primer reporte:  2020-12-13 00:00:00\n",
            "Fecha del último reporte:  2021-02-13 00:00:00\n"
          ],
          "name": "stdout"
        }
      ]
    },
    {
      "cell_type": "markdown",
      "metadata": {
        "id": "eyhGxjVGd4S3"
      },
      "source": [
        "9.\tMostrar cuál es la cantidad de días considerados en el reporte (la diferencia del día máximo – el día mínimo)"
      ]
    },
    {
      "cell_type": "code",
      "metadata": {
        "colab": {
          "base_uri": "https://localhost:8080/"
        },
        "id": "C063yweLd6dF",
        "outputId": "24641ea2-0467-499f-826c-25d8ca74b2e8"
      },
      "source": [
        "vacunacion['date'].max() - vacunacion['date'].min()"
      ],
      "execution_count": null,
      "outputs": [
        {
          "output_type": "execute_result",
          "data": {
            "text/plain": [
              "Timedelta('62 days 00:00:00')"
            ]
          },
          "metadata": {
            "tags": []
          },
          "execution_count": 25
        }
      ]
    },
    {
      "cell_type": "markdown",
      "metadata": {
        "id": "tpzaPtMDd4MM"
      },
      "source": [
        "10.\tObtener la sumatoria total de vacunas diarias aplicadas en el mundo en cada mes reportado en el dataframe usando las columnas date y daily_vaccinations\n",
        "\n"
      ]
    },
    {
      "cell_type": "code",
      "metadata": {
        "colab": {
          "base_uri": "https://localhost:8080/"
        },
        "id": "CFTgEa4Gd9FV",
        "outputId": "ba5bbfa3-0b5d-4d3e-f2ca-509c08ebe5d0"
      },
      "source": [
        "vacunacion['daily_vaccinations'].groupby(vacunacion['date'].dt.month).sum()"
      ],
      "execution_count": null,
      "outputs": [
        {
          "output_type": "execute_result",
          "data": {
            "text/plain": [
              "date\n",
              "1     88779797.0\n",
              "2     67162079.0\n",
              "12     9131732.0\n",
              "Name: daily_vaccinations, dtype: float64"
            ]
          },
          "metadata": {
            "tags": []
          },
          "execution_count": 29
        }
      ]
    }
  ]
}